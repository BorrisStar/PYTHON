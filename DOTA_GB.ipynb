{
 "cells": [
  {
   "cell_type": "code",
   "execution_count": 11,
   "metadata": {
    "collapsed": true
   },
   "outputs": [],
   "source": [
    "import pandas as pd\n",
    "import numpy as np\n",
    "import time\n",
    "import datetime\n",
    "import matplotlib.pyplot as plt\n",
    "from sklearn.cross_validation import KFold, cross_val_score, train_test_split\n",
    "from sklearn.ensemble import GradientBoostingClassifier\n",
    "from sklearn.metrics import roc_auc_score\n",
    "\n",
    "%matplotlib inline"
   ]
  },
  {
   "cell_type": "code",
   "execution_count": 12,
   "metadata": {
    "collapsed": true
   },
   "outputs": [],
   "source": [
    "\n",
    "# Предварительная обработка данных\n",
    "#Считайте таблицу с признаками из файла features.csv с помощью кода, приведенного выше.\n",
    "#features = pandas.read_csv('./features.csv', index_col='match_id')\n",
    "\n",
    "#Загружаем тренировочные данные и тестовые\n",
    "train = pd.read_csv('features.csv', index_col='match_id')\n",
    "#test = pd.read_csv('features_test.csv', index_col='match_id')\n",
    "\n",
    "# Удалите признаки, связанные с итогами матча (они помечены в описании данных как отсутствующие в тестовой выборке).\n",
    "train.drop(['duration', \n",
    "         'tower_status_radiant', \n",
    "         'tower_status_dire', \n",
    "         'barracks_status_radiant', \n",
    "         'barracks_status_dire'\n",
    "        ], axis=1, inplace=True)\n",
    "\n",
    "# Разделяем  на признаки \n",
    "X = train\n",
    "# и yf целевую переменную\n",
    "y = train['radiant_win'].to_frame()\n",
    "del train['radiant_win']"
   ]
  },
  {
   "cell_type": "code",
   "execution_count": 13,
   "metadata": {
    "collapsed": true
   },
   "outputs": [],
   "source": [
    "#Замените пропуски на нули с помощью функции fillna(). \n",
    "#На самом деле этот способ является предпочтительным для логистической регрессии, \n",
    "#поскольку он позволит пропущенному значению не вносить никакого вклада в предсказание. \n",
    "\n",
    "# Заменяем пропуски на 0\n",
    "X = X.fillna(0)\n"
   ]
  },
  {
   "cell_type": "code",
   "execution_count": 15,
   "metadata": {
    "collapsed": true
   },
   "outputs": [],
   "source": [
    "#Зафиксируйте генератор разбиений для кросс-валидации по 5 блокам (KFold), \n",
    "#не забудьте перемешать при этом выборку (shuffle=True), \n",
    "#поскольку данные в таблице отсортированы по времени, \n",
    "#и без перемешивания можно столкнуться с нежелательными эффектами при оценивании качества.\n",
    "\n",
    "kf = KFold(y.size, n_folds=5, shuffle=True, random_state=42)\n"
   ]
  },
  {
   "cell_type": "code",
   "execution_count": 19,
   "metadata": {},
   "outputs": [
    {
     "name": "stdout",
     "output_type": "stream",
     "text": [
      "# 10\n",
      "Time elapsed: 0:00:24.826000\n",
      "[ 0.66383799  0.66635457  0.66360048  0.66529818  0.66516222]\n",
      "# 20\n",
      "Time elapsed: 0:00:41.803000\n",
      "[ 0.68083889  0.68272733  0.67969876  0.6834932   0.6855512 ]\n",
      "# 30\n",
      "Time elapsed: 0:00:59.832000\n",
      "[ 0.68892093  0.68934663  0.68712298  0.69180598  0.69283583]\n",
      "# 50\n",
      "Time elapsed: 0:01:34.571000\n",
      "[ 0.69627399  0.69747879  0.69470891  0.69921915  0.69979097]\n",
      "# 100\n",
      "Time elapsed: 0:03:05.749000\n",
      "[ 0.70515496  0.706077    0.70429951  0.7074682   0.70811523]\n",
      "# 200\n",
      "Time elapsed: 0:05:51.218000\n",
      "[ 0.71214175  0.71304181  0.71259725  0.71556107  0.71510233]\n"
     ]
    }
   ],
   "source": [
    " \n",
    "scores = []\n",
    "nums = [10, 20, 30, 50, 100, 200]\n",
    "for k in nums:\n",
    "    print '#', str(k)\n",
    "    model = GradientBoostingClassifier(n_estimators=k, random_state=42)\n",
    "    #Измерение времени работы кода\n",
    "    start_time = datetime.datetime.now()\n",
    "    model_scores = cross_val_score(model, X, y, cv=kf, scoring='roc_auc', n_jobs=-1)\n",
    "    print 'Time elapsed:', datetime.datetime.now() - start_time\n",
    "    print model_scores\n",
    "    scores.append(np.mean(model_scores))"
   ]
  },
  {
   "cell_type": "code",
   "execution_count": 20,
   "metadata": {},
   "outputs": [
    {
     "data": {
      "image/png": "[encoded data removed]",
      "text/plain": [
       "<matplotlib.figure.Figure at 0x13cf0908>"
      ]
     },
     "metadata": {},
     "output_type": "display_data"
    }
   ],
   "source": [
    "#Выведем результаты на график\n",
    "plt.plot(nums, scores)\n",
    "plt.xlabel('n_estimators')\n",
    "plt.ylabel('score')\n",
    "plt.show()"
   ]
  },
  {
   "cell_type": "code",
   "execution_count": null,
   "metadata": {
    "collapsed": true
   },
   "outputs": [],
   "source": []
  },
  {
   "cell_type": "markdown",
   "metadata": {},
   "source": [
    "\n",
    "Кросс-валидация для градиентного бустинга с 30 деревьями заняла 59:47. \n",
    "Метрика качества AUC-ROC = 0.69.\n",
    "Увеличение количества деревьев улучшает показатель метрики AUC-ROC => 0.71. \n",
    "Для достижения оптимального качества имеет смысл использовать более 30 деревьев. \n",
    "\n",
    "Для ускорения обучения можно использовать не всю выборку, а только половину объектов. \n",
    "Если уменьшить глубину деревьев (max_depth) также можно достигнуть ускорения обучения.\n"
   ]
  }
 ],
 "metadata": {
  "kernelspec": {
   "display_name": "Python 2",
   "language": "python",
   "name": "python2"
  },
  "language_info": {
   "codemirror_mode": {
    "name": "ipython",
    "version": 2
   },
   "file_extension": ".py",
   "mimetype": "text/x-python",
   "name": "python",
   "nbconvert_exporter": "python",
   "pygments_lexer": "ipython2",
   "version": "2.7.14"
  }
 },
 "nbformat": 4,
 "nbformat_minor": 2
}
