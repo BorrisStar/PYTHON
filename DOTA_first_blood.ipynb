{
 "cells": [
  {
   "cell_type": "code",
   "execution_count": 1,
   "metadata": {
    "collapsed": true
   },
   "outputs": [],
   "source": [
    "import pandas as pd\n",
    "\n",
    "#Pandas выводит 20 стобцов и 60 строк, воспользуемся set_option и выведем столбцы по максимуму \n",
    "pd.set_option('display.max_columns', None)"
   ]
  },
  {
   "cell_type": "code",
   "execution_count": 2,
   "metadata": {
    "collapsed": true
   },
   "outputs": [],
   "source": [
    "# Предварительная обработка данных\n",
    "#Считайте таблицу с признаками из файла features.csv с помощью кода, приведенного выше.\n",
    "#features = pandas.read_csv('./features.csv', index_col='match_id')\n",
    "\n",
    "data = pd.read_csv('features.csv', index_col='match_id')"
   ]
  },
  {
   "cell_type": "code",
   "execution_count": 3,
   "metadata": {
    "collapsed": true
   },
   "outputs": [],
   "source": [
    "#Выведем полученные статистические данные \n",
    "stat = data.describe()\n"
   ]
  },
  {
   "cell_type": "code",
   "execution_count": null,
   "metadata": {
    "collapsed": true
   },
   "outputs": [],
   "source": []
  },
  {
   "cell_type": "markdown",
   "metadata": {},
   "source": [
    "Описание признаков в таблице\n",
    "\n",
    "    match_id: идентификатор матча в наборе данных\n",
    "    start_time: время начала матча (unixtime)\n",
    "    lobby_type: тип комнаты, в которой собираются игроки (расшифровка в dictionaries/lobbies.csv)\n",
    "    Наборы признаков для каждого игрока (игроки команды Radiant — префикс rN, Dire — dN):\n",
    "        r1_hero: герой игрока (расшифровка в dictionaries/heroes.csv)\n",
    "        r1_level: максимальный достигнутый уровень героя (за первые 5 игровых минут)\n",
    "        r1_xp: максимальный полученный опыт\n",
    "        r1_gold: достигнутая ценность героя\n",
    "        r1_lh: число убитых юнитов\n",
    "        r1_kills: число убитых игроков\n",
    "        r1_deaths: число смертей героя\n",
    "        r1_items: число купленных предметов\n",
    "    Признаки события \"первая кровь\" (first blood). Если событие \"первая кровь\" не успело произойти за первые 5 минут, то признаки принимают пропущенное значение\n",
    "        first_blood_time: игровое время первой крови\n",
    "        first_blood_team: команда, совершившая первую кровь (0 — Radiant, 1 — Dire)\n",
    "        first_blood_player1: игрок, причастный к событию\n",
    "        first_blood_player2: второй игрок, причастный к событию\n",
    "    Признаки для каждой команды (префиксы radiant_ и dire_)\n",
    "        radiant_bottle_time: время первого приобретения командой предмета \"bottle\"\n",
    "        radiant_courier_time: время приобретения предмета \"courier\"\n",
    "        radiant_flying_courier_time: время приобретения предмета \"flying_courier\"\n",
    "        radiant_tpscroll_count: число предметов \"tpscroll\" за первые 5 минут\n",
    "        radiant_boots_count: число предметов \"boots\"\n",
    "        radiant_ward_observer_count: число предметов \"ward_observer\"\n",
    "        radiant_ward_sentry_count: число предметов \"ward_sentry\"\n",
    "        radiant_first_ward_time: время установки командой первого \"наблюдателя\", т.е. предмета, который позволяет видеть часть игрового поля\n",
    "    Итог матча (данные поля отсутствуют в тестовой выборке, поскольку содержат информацию, выходящую за пределы первых 5 минут матча)\n",
    "        duration: длительность\n",
    "        radiant_win: 1, если победила команда Radiant, 0 — иначе\n",
    "        Состояние башен и барраков к концу матча (см. описание полей набора данных)\n",
    "            tower_status_radiant\n",
    "            tower_status_dire\n",
    "            barracks_status_radiant\n",
    "            barracks_status_dire"
   ]
  },
  {
   "cell_type": "code",
   "execution_count": 17,
   "metadata": {},
   "outputs": [
    {
     "data": {
      "text/plain": [
       "first_blood_player2            45.240152\n",
       "radiant_flying_courier_time    28.261853\n",
       "dire_flying_courier_time       26.841510\n",
       "first_blood_time               20.110048\n",
       "first_blood_team               20.110048\n",
       "first_blood_player1            20.110048\n",
       "dire_bottle_time               16.602900\n",
       "radiant_bottle_time            16.138023\n",
       "radiant_first_ward_time         1.888306\n",
       "dire_first_ward_time            1.878021\n",
       "radiant_courier_time            0.711714\n",
       "dire_courier_time               0.695259\n",
       "Name: count, dtype: float64"
      ]
     },
     "execution_count": 17,
     "metadata": {},
     "output_type": "execute_result"
    }
   ],
   "source": [
    "#Проверка пропусков в данных\n",
    "\n",
    "rows = len(data)#длина 97230.0\n",
    "count = stat.T['count'] #преобразуем строку 'count' в столбец\n",
    "count_NAN = count[count < rows]#все меньше 97230.0\n",
    "#print count_NAN\n",
    "#Переведем в % для удобства анализа\n",
    "count_NAN.sort_values().apply(lambda i: ((rows - i) / rows)*100)"
   ]
  },
  {
   "cell_type": "markdown",
   "metadata": {
    "collapsed": true
   },
   "source": [
    " Много ли пропусков в данных? Запишите названия признаков, имеющих пропуски, и попробуйте для любых двух из них дать обоснование, почему их значения могут быть пропущены.\n",
    " \n",
    "Обоснование: \n",
    " Признаки события \"первая кровь\" (first blood). Если событие \"первая кровь\" не успело произойти за первые 5 минут, то признаки принимают пропущенное значение\n",
    " \n",
    " first_blood_player2  - второй игрок не участвовал в событии \"первое убийство\" в 45% случаев. Видимо, первый игрок обошелся своими силами и помощь не потребовалась.\n",
    "  \n",
    " first_blood_time  - в 20% случаев \"первой крови\" еще нет в первые 5 минут игры\n",
    " first_blood_team  - в 20% случаев \"первой крови\" еще нет в первые 5 минут игры\n",
    " first_blood_player1 - тоже самое, что и в двух предыдущих\n",
    " \n",
    "\n"
   ]
  },
  {
   "cell_type": "code",
   "execution_count": null,
   "metadata": {
    "collapsed": true
   },
   "outputs": [],
   "source": []
  },
  {
   "cell_type": "code",
   "execution_count": null,
   "metadata": {
    "collapsed": true
   },
   "outputs": [],
   "source": []
  },
  {
   "cell_type": "code",
   "execution_count": null,
   "metadata": {
    "collapsed": true
   },
   "outputs": [],
   "source": []
  }
 ],
 "metadata": {
  "kernelspec": {
   "display_name": "Python 2",
   "language": "python",
   "name": "python2"
  },
  "language_info": {
   "codemirror_mode": {
    "name": "ipython",
    "version": 2
   },
   "file_extension": ".py",
   "mimetype": "text/x-python",
   "name": "python",
   "nbconvert_exporter": "python",
   "pygments_lexer": "ipython2",
   "version": "2.7.14"
  }
 },
 "nbformat": 4,
 "nbformat_minor": 2
}
