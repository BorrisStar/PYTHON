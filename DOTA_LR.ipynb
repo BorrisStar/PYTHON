{
 "cells": [
  {
   "cell_type": "code",
   "execution_count": 14,
   "metadata": {},
   "outputs": [],
   "source": [
    "import pandas as pd\n",
    "import numpy as np\n",
    "\n",
    "import time\n",
    "import datetime\n",
    "import matplotlib.pyplot as plt\n",
    "from sklearn.cross_validation import KFold, cross_val_score, train_test_split\n",
    "from sklearn.metrics import roc_auc_score\n",
    "from sklearn.linear_model import LogisticRegression\n",
    "from sklearn.preprocessing import StandardScaler\n",
    "\n",
    "%matplotlib inline"
   ]
  },
  {
   "cell_type": "code",
   "execution_count": 24,
   "metadata": {
    "collapsed": true
   },
   "outputs": [],
   "source": [
    "\n",
    "# Предварительная обработка данных\n",
    "#Считайте таблицу с признаками из файла features.csv с помощью кода, приведенного выше.\n",
    "#features = pandas.read_csv('./features.csv', index_col='match_id')\n",
    "\n",
    "#Загружаем тренировочные данные и тестовые\n",
    "train = pd.read_csv('features.csv', index_col='match_id')\n",
    "#test = pd.read_csv('features_test.csv', index_col='match_id')\n",
    "\n",
    "# Удалите признаки, связанные с итогами матча (они помечены в описании данных как отсутствующие в тестовой выборке).\n",
    "train.drop(['duration', 'tower_status_radiant', 'tower_status_dire', 'barracks_status_radiant', 'barracks_status_dire'\n",
    "        ], axis=1, inplace=True)\n",
    "\n",
    "# Разделяем  на признаки \n",
    "X = train\n",
    "# и y - целевую переменную\n",
    "y = train['radiant_win'].to_frame()\n",
    "del train['radiant_win']\n"
   ]
  },
  {
   "cell_type": "code",
   "execution_count": 16,
   "metadata": {
    "collapsed": true
   },
   "outputs": [],
   "source": [
    "#Замените пропуски на нули с помощью функции fillna(). \n",
    "#На самом деле этот способ является предпочтительным для логистической регрессии, \n",
    "#поскольку он позволит пропущенному значению не вносить никакого вклада в предсказание. \n",
    "\n",
    "# Заменяем пропуски на 0\n",
    "X = X.fillna(0)"
   ]
  },
  {
   "cell_type": "code",
   "execution_count": 17,
   "metadata": {
    "collapsed": true
   },
   "outputs": [],
   "source": [
    "scaler = StandardScaler()\n",
    "X = scaler.fit_transform(X) "
   ]
  },
  {
   "cell_type": "code",
   "execution_count": 18,
   "metadata": {
    "collapsed": true
   },
   "outputs": [],
   "source": [
    "#Зафиксируйте генератор разбиений для кросс-валидации по 5 блокам (KFold), \n",
    "#не забудьте перемешать при этом выборку (shuffle=True), \n",
    "#поскольку данные в таблице отсортированы по времени, \n",
    "#и без перемешивания можно столкнуться с нежелательными эффектами при оценивании качества.\n",
    "\n",
    "kf = KFold(y.size, n_folds=5, shuffle=True, random_state=42)"
   ]
  },
  {
   "cell_type": "code",
   "execution_count": 19,
   "metadata": {
    "collapsed": true
   },
   "outputs": [],
   "source": [
    "#Оптимальный параметр регуляции\n",
    "\n",
    "def model_C(X, y, C):\n",
    "    print 'C =', str(C)\n",
    "    model = LogisticRegression(C=C, random_state=42, n_jobs=-1)\n",
    "    return cross_val_score(model, X, y, cv=kf, scoring='roc_auc', n_jobs=-1)\n",
    "    \n",
    "def model_All(X, y):\n",
    "    scores = []\n",
    "    C_pow_range = range(-5, 6)\n",
    "    C_range = [10.0 ** i for i in C_pow_range]\n",
    "    for C in C_range:\n",
    "        start_time = datetime.datetime.now()\n",
    "        model_scores = model_C(X, y, C)\n",
    "        print model_scores\n",
    "        print 'Time elapsed:', datetime.datetime.now() - start_time       \n",
    "        scores.append(np.mean(model_scores))\n",
    "\n",
    "    plt.plot(C_pow_range, scores)\n",
    "    plt.xlabel('log(C)')\n",
    "    plt.ylabel('score')\n",
    "    plt.show()\n",
    "    \n",
    "    max_score = max(scores)\n",
    "    max_score_index = scores.index(max_score)\n",
    "    return C_range[max_score_index], max_score"
   ]
  },
  {
   "cell_type": "code",
   "execution_count": 20,
   "metadata": {},
   "outputs": [
    {
     "name": "stdout",
     "output_type": "stream",
     "text": [
      "C = 1e-05\n",
      "[ 0.6931532   0.69481539  0.69571379  0.69513159  0.69699445]\n",
      "Time elapsed: 0:00:12.008000\n",
      "C = 0.0001\n",
      "[ 0.70956686  0.71039474  0.71170336  0.71176082  0.71336295]\n",
      "Time elapsed: 0:00:12.892000\n",
      "C = 0.001\n",
      "[ 0.71449541  0.71577214  0.71625974  0.71697301  0.71831738]\n",
      "Time elapsed: 0:00:14.288000\n",
      "C = 0.01\n",
      "[ 0.71464598  0.71617915  0.71624749  0.71735041  0.71832832]\n",
      "Time elapsed: 0:00:15.095000\n",
      "C = 0.1\n",
      "[ 0.71462192  0.71617479  0.71619187  0.71737596  0.7182712 ]\n",
      "Time elapsed: 0:00:16.211000\n",
      "C = 1.0\n",
      "[ 0.71461815  0.71617185  0.71618338  0.7173762   0.71826341]\n",
      "Time elapsed: 0:00:15.647000\n",
      "C = 10.0\n",
      "[ 0.71461695  0.71617179  0.71618281  0.71737669  0.7182632 ]\n",
      "Time elapsed: 0:00:16.191000\n",
      "C = 100.0\n",
      "[ 0.71461692  0.71617206  0.71618249  0.71737655  0.71826345]\n",
      "Time elapsed: 0:00:16.646000\n",
      "C = 1000.0\n",
      "[ 0.71461693  0.71617214  0.7161825   0.71737659  0.71826346]\n",
      "Time elapsed: 0:00:16.090000\n",
      "C = 10000.0\n",
      "[ 0.71461693  0.71617215  0.71618251  0.7173766   0.71826345]\n",
      "Time elapsed: 0:00:16.164000\n",
      "C = 100000.0\n",
      "[ 0.71461693  0.71617215  0.71618252  0.71737661  0.71826345]\n",
      "Time elapsed: 0:00:16.009000\n"
     ]
    },
    {
     "data": {
      "image/png": "[encoded data removed]",
      "text/plain": [
       "<matplotlib.figure.Figure at 0x13ca19e8>"
      ]
     },
     "metadata": {},
     "output_type": "display_data"
    }
   ],
   "source": [
    "C, score = model_All(X, y)\n",
    "    "
   ]
  },
  {
   "cell_type": "code",
   "execution_count": 21,
   "metadata": {},
   "outputs": [
    {
     "name": "stdout",
     "output_type": "stream",
     "text": [
      "0.01\n",
      "0.716550269726\n"
     ]
    }
   ],
   "source": [
    "print C\n",
    "print score"
   ]
  },
  {
   "cell_type": "markdown",
   "metadata": {},
   "source": [
    "Самое лучшее значение показателя AUC-ROC  => C = 0.01, score =  0.71. Это близко по значению с градиентным бустингом по 250 деревьям, при этом логистическая регрессия работает немного быстрее."
   ]
  },
  {
   "cell_type": "code",
   "execution_count": null,
   "metadata": {
    "collapsed": true
   },
   "outputs": [],
   "source": []
  },
  {
   "cell_type": "code",
   "execution_count": 25,
   "metadata": {},
   "outputs": [],
   "source": [
    "# Удаляем все категориальные признаки и повторяем\n",
    "del train['lobby_type']\n",
    "train_2 = train\n",
    "for k in xrange(1, 6):\n",
    "    del train_2['r{}_hero'.format(k)]\n",
    "    del train_2['d{}_hero'.format(k)]\n",
    "    \n",
    "# Разделяем  на признаки \n",
    "X_2 = train_2\n",
    "\n",
    "# Заменяем пропуски на 0\n",
    "X_2 = X_2.fillna(0)\n",
    "\n",
    "scaler = StandardScaler()\n",
    "X_2 = scaler.fit_transform(X_2)\n",
    "\n",
    "\n",
    "#print X_2\n",
    "\n",
    "kf = KFold(y.size, n_folds=5, shuffle=True, random_state=42)"
   ]
  },
  {
   "cell_type": "code",
   "execution_count": 27,
   "metadata": {},
   "outputs": [
    {
     "name": "stdout",
     "output_type": "stream",
     "text": [
      "C = 1e-05\n",
      "[ 0.69301063  0.69476367  0.69562225  0.69507488  0.69702952]\n",
      "Time elapsed: 0:00:12.297000\n",
      "C = 0.0001\n",
      "[ 0.70936502  0.71042199  0.71168956  0.71168269  0.71353648]\n",
      "Time elapsed: 0:00:12.926000\n",
      "C = 0.001\n",
      "[ 0.71434804  0.71581532  0.71629769  0.7168852   0.71853275]\n",
      "Time elapsed: 0:00:14.587000\n",
      "C = 0.01\n",
      "[ 0.71450425  0.71622052  0.71627999  0.71725088  0.71854131]\n",
      "Time elapsed: 0:00:15.111000\n",
      "C = 0.1\n",
      "[ 0.71448206  0.71620992  0.71622569  0.71726917  0.71848436]\n",
      "Time elapsed: 0:00:16.280000\n",
      "C = 1.0\n",
      "[ 0.71447768  0.71620627  0.7162209   0.71727019  0.71847678]\n",
      "Time elapsed: 0:00:16.031000\n",
      "C = 10.0\n",
      "[ 0.71447669  0.71620645  0.71621968  0.71727123  0.71847581]\n",
      "Time elapsed: 0:00:15.844000\n",
      "C = 100.0\n",
      "[ 0.7144767   0.71620624  0.71621963  0.71727119  0.71847569]\n",
      "Time elapsed: 0:00:15.965000\n",
      "C = 1000.0\n",
      "[ 0.71447667  0.71620624  0.71621965  0.71727119  0.71847569]\n",
      "Time elapsed: 0:00:15.974000\n",
      "C = 10000.0\n",
      "[ 0.71447668  0.71620627  0.71621961  0.71727117  0.71847569]\n",
      "Time elapsed: 0:00:15.820000\n",
      "C = 100000.0\n",
      "[ 0.71447668  0.71620627  0.71621961  0.71727117  0.71847569]\n",
      "Time elapsed: 0:00:16.294000\n"
     ]
    },
    {
     "data": {
      "image/png": "[encoded data removed]",
      "text/plain": [
       "<matplotlib.figure.Figure at 0xc10ab70>"
      ]
     },
     "metadata": {},
     "output_type": "display_data"
    }
   ],
   "source": [
    "C, score = model_All(X_2, y)\n",
    "    "
   ]
  },
  {
   "cell_type": "code",
   "execution_count": 28,
   "metadata": {},
   "outputs": [
    {
     "name": "stdout",
     "output_type": "stream",
     "text": [
      "0.01\n",
      "0.716559388563\n"
     ]
    }
   ],
   "source": [
    "print C\n",
    "print score"
   ]
  },
  {
   "cell_type": "markdown",
   "metadata": {},
   "source": [
    "Удаление категориальных признаков не влияет на качество работы модели. Лучшее значение показателя AUC-ROC  достигается при C = 0.01, score = 0.71. "
   ]
  },
  {
   "cell_type": "code",
   "execution_count": 29,
   "metadata": {
    "collapsed": true
   },
   "outputs": [],
   "source": [
    "#print train\n",
    "\n"
   ]
  },
  {
   "cell_type": "code",
   "execution_count": null,
   "metadata": {
    "collapsed": true
   },
   "outputs": [],
   "source": [
    " \n"
   ]
  },
  {
   "cell_type": "code",
   "execution_count": 30,
   "metadata": {
    "collapsed": true
   },
   "outputs": [],
   "source": [
    "#Загружаем тренировочные данные и тестовые\n",
    "train = pd.read_csv('features.csv', index_col='match_id')\n",
    "#test = pd.read_csv('features_test.csv', index_col='match_id')\n",
    "\n",
    "# Удалите признаки, связанные с итогами матча (они помечены в описании данных как отсутствующие в тестовой выборке).\n",
    "train.drop(['duration', \n",
    "         'tower_status_radiant', \n",
    "         'tower_status_dire', \n",
    "         'barracks_status_radiant', \n",
    "         'barracks_status_dire'\n",
    "        ], axis=1, inplace=True)\n",
    "\n",
    "# Удаляем все категориальные признаки и повторяем\n",
    "del train['lobby_type']\n",
    "\n"
   ]
  },
  {
   "cell_type": "code",
   "execution_count": 31,
   "metadata": {
    "collapsed": true
   },
   "outputs": [],
   "source": [
    "#Воспользуемся подходом \"мешок слов\" для кодирования информации о героях. \n",
    "#Пусть всего в игре имеет N различных героев. Сформируем N признаков, при этом i-й будет равен нулю, \n",
    "#если i-й герой не участвовал в матче; единице, если i-й герой играл за команду Radiant; \n",
    "#минус единице, если i-й герой играл за команду Dire.\n",
    "\n",
    "# \"мешок слов\" по героям\n",
    "def hero_sack(X):\n",
    "    X_n = np.zeros((X.shape[0], 112))\n",
    "    for i, match_id in enumerate(X.index):\n",
    "        for p in xrange(5):\n",
    "            X_n[i, X.ix[match_id, 'r%d_hero' % (p+1)]-1] = 1\n",
    "            X_n[i, X.ix[match_id, 'd%d_hero' % (p+1)]-1] = -1\n",
    "\n",
    "    return pd.DataFrame(X_n, index=X.index)"
   ]
  },
  {
   "cell_type": "code",
   "execution_count": 32,
   "metadata": {
    "collapsed": true
   },
   "outputs": [],
   "source": [
    "X = train\n",
    "\n",
    "# и y - целевую переменную\n",
    "y = train['radiant_win'].to_frame()\n",
    "del train['radiant_win']\n",
    "\n",
    "# Заменяем пропуски на 0\n",
    "X = X.fillna(0)\n",
    "\n",
    "scaler = StandardScaler()\n",
    "X = pd.DataFrame(scaler.fit_transform(X), index = X.index)\n",
    "\n"
   ]
  },
  {
   "cell_type": "code",
   "execution_count": 33,
   "metadata": {},
   "outputs": [
    {
     "name": "stderr",
     "output_type": "stream",
     "text": [
      "C:\\Users\\swb1mk\\AppData\\Local\\Continuum\\anaconda2\\lib\\site-packages\\ipykernel_launcher.py:11: DeprecationWarning: \n",
      ".ix is deprecated. Please use\n",
      ".loc for label based indexing or\n",
      ".iloc for positional indexing\n",
      "\n",
      "See the documentation here:\n",
      "http://pandas.pydata.org/pandas-docs/stable/indexing.html#ix-indexer-is-deprecated\n",
      "  # This is added back by InteractiveShellApp.init_path()\n"
     ]
    }
   ],
   "source": [
    "X_3 = hero_sack(train)\n",
    "\n",
    "X = pd.concat([X, X_3], axis=1)"
   ]
  },
  {
   "cell_type": "code",
   "execution_count": 34,
   "metadata": {
    "collapsed": true
   },
   "outputs": [],
   "source": [
    "kf = KFold(y.size, n_folds=5, shuffle=True, random_state=42)"
   ]
  },
  {
   "cell_type": "code",
   "execution_count": 35,
   "metadata": {},
   "outputs": [
    {
     "name": "stdout",
     "output_type": "stream",
     "text": [
      "C = 1e-05\n",
      "[ 0.69734258  0.698844    0.6995673   0.69941962  0.70103117]\n",
      "Time elapsed: 0:00:13.284000\n",
      "C = 0.0001\n",
      "[ 0.7237361   0.72409993  0.72458163  0.72605192  0.72684832]\n",
      "Time elapsed: 0:00:14.311000\n",
      "C = 0.001\n",
      "[ 0.74477849  0.74668328  0.74397291  0.74889226  0.74736143]\n",
      "Time elapsed: 0:00:16.264000\n",
      "C = 0.01\n",
      "[ 0.74952425  0.7527421   0.74909058  0.75545962  0.75171025]\n",
      "Time elapsed: 0:00:19.174000\n",
      "C = 0.1\n",
      "[ 0.74946346  0.75310936  0.74936491  0.75604945  0.75156738]\n",
      "Time elapsed: 0:00:22.280000\n",
      "C = 1.0\n",
      "[ 0.74939012  0.75312637  0.74936566  0.75609113  0.75149727]\n",
      "Time elapsed: 0:00:23.439000\n",
      "C = 10.0\n",
      "[ 0.74938114  0.75312506  0.7493625   0.75609488  0.7514882 ]\n",
      "Time elapsed: 0:00:23.445000\n",
      "C = 100.0\n",
      "[ 0.74938116  0.75312485  0.74936229  0.75609552  0.75148688]\n",
      "Time elapsed: 0:00:23.285000\n",
      "C = 1000.0\n",
      "[ 0.74938025  0.75312468  0.74936218  0.75609563  0.75148707]\n",
      "Time elapsed: 0:00:23.321000\n",
      "C = 10000.0\n",
      "[ 0.74938023  0.75312472  0.74936219  0.7560956   0.75148664]\n",
      "Time elapsed: 0:00:24.698000\n",
      "C = 100000.0\n",
      "[ 0.74938101  0.75312471  0.74936222  0.75609563  0.75148653]\n",
      "Time elapsed: 0:00:23.861000\n"
     ]
    },
    {
     "data": {
      "image/png": "[encoded data removed]",
      "text/plain": [
       "<matplotlib.figure.Figure at 0x3f19160>"
      ]
     },
     "metadata": {},
     "output_type": "display_data"
    }
   ],
   "source": [
    "C, score = model_All(X, y)"
   ]
  },
  {
   "cell_type": "code",
   "execution_count": 36,
   "metadata": {},
   "outputs": [
    {
     "name": "stdout",
     "output_type": "stream",
     "text": [
      "0.1\n",
      "0.751910912605\n"
     ]
    }
   ],
   "source": [
    "print C\n",
    "print score"
   ]
  },
  {
   "cell_type": "markdown",
   "metadata": {},
   "source": [
    "После добавления \"мешка слов\" по героям качество предсказания  улучшилось. Самое лучшее значение показателя AUC-ROC достигается уже при C = 0.1 и равно 0.75. Это потому что в этом случае мы имеем упорядоченную разреженную матрицу для построения предсказания."
   ]
  },
  {
   "cell_type": "code",
   "execution_count": null,
   "metadata": {},
   "outputs": [],
   "source": []
  },
  {
   "cell_type": "code",
   "execution_count": null,
   "metadata": {
    "collapsed": true
   },
   "outputs": [],
   "source": []
  }
 ],
 "metadata": {
  "kernelspec": {
   "display_name": "Python 2",
   "language": "python",
   "name": "python2"
  },
  "language_info": {
   "codemirror_mode": {
    "name": "ipython",
    "version": 2
   },
   "file_extension": ".py",
   "mimetype": "text/x-python",
   "name": "python",
   "nbconvert_exporter": "python",
   "pygments_lexer": "ipython2",
   "version": "2.7.14"
  }
 },
 "nbformat": 4,
 "nbformat_minor": 2
}
